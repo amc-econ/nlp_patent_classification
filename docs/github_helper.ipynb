{
 "cells": [
  {
   "cell_type": "markdown",
   "metadata": {
    "toc": true
   },
   "source": [
    "<h1>Table of Contents<span class=\"tocSkip\"></span></h1>\n",
    "<div class=\"toc\"><ul class=\"toc-item\"><li><span><a href=\"#Navigate-to-the-repository\" data-toc-modified-id=\"Navigate-to-the-repository-1\">Navigate to the repository</a></span></li><li><span><a href=\"#Branch\" data-toc-modified-id=\"Branch-2\">Branch</a></span></li><li><span><a href=\"#Some-files-should-be-ignored\" data-toc-modified-id=\"Some-files-should-be-ignored-3\">Some files should be ignored</a></span></li><li><span><a href=\"#Commit-your-code\" data-toc-modified-id=\"Commit-your-code-4\">Commit your code</a></span></li><li><span><a href=\"#Push-your-branch\" data-toc-modified-id=\"Push-your-branch-5\">Push your branch</a></span></li></ul></div>"
   ]
  },
  {
   "cell_type": "markdown",
   "metadata": {},
   "source": [
    "# Syncronisation with the `nlp_emerging_technologies` repository on Github"
   ]
  },
  {
   "cell_type": "markdown",
   "metadata": {},
   "source": [
    "* This notebook describes the Github workflow used in this project;\n",
    "* The commands must be done in a proper terminal (not with the IPython %%bash magic), because it allows login and password prompt;\n",
    "* [Interesting reference on the Github workflow](https://gist.github.com/blackfalcon/8428401)."
   ]
  },
  {
   "cell_type": "markdown",
   "metadata": {},
   "source": [
    "## Navigate to the repository\n",
    "\n",
    "Navigate to the repository in the local server: \n",
    "\n",
    "`$ cd nlp-emerging-technologies`"
   ]
  },
  {
   "cell_type": "markdown",
   "metadata": {},
   "source": [
    "## Branch\n",
    "\n",
    "Make sure you are on master. Before I pull, I make sure I am on the right branch. I have GIT Bash autocompletion installed, so this is clear from the prompt. Otherwise, the following command is good to know to list out the branches I have locally as well as designate which branch I am currently on.\n",
    "\n",
    "`$ git branch`\n",
    "\n",
    "The checked out branch will have a * before the name. If the return designates anything other then master then switch to master\n",
    "\n",
    "`$ git checkout master`\n",
    "\n",
    "Once on master and ready to pull updates, I use the following:\n",
    "\n",
    "`$ git pull origin master`"
   ]
  },
  {
   "cell_type": "markdown",
   "metadata": {},
   "source": [
    "Now that I am all up to date with the remote repo, I'll create a branch. For efficiency, I will use the following:\n",
    "\n",
    "`$ git checkout -b my-new-feature-branch`"
   ]
  },
  {
   "cell_type": "markdown",
   "metadata": {},
   "source": [
    "This command will create a new branch from master as well as check out out that new branch at the same time. Doing a git branch here again will list out the branches in my local repo and place a * before the branch that is checked out."
   ]
  },
  {
   "cell_type": "markdown",
   "metadata": {},
   "source": [
    "## Some files should be ignored\n",
    "\n",
    "In any Git project, you will find a .gitignore file. This is a simple registry file where you can list the files you DO NOT want to commit to the repo. This would be any files that contain secret information like keys and tokens or any sensitive server configurations.\n",
    "\n",
    "To read more about the basics of a .gitignore file, read ignoring files from the Github site.\n",
    "\n",
    "The only thing I want to mention is if a resource has already been added to Git's control, adding it later to the .gitignore file will not ignore that file. The thing to remember here is that the intention is to remove the file from Git control, but not from disk. To do this, use the following command:\n",
    "\n",
    "`$ git rm --cached <filename>`\n",
    "\n",
    "For example, say we had a directory with the filed index.html and then the file config.yml, but the config file had a lot of secret info and it was accidentally added to the Git version control.\n",
    "\n",
    "In the .gitignore file, first we would add config.yml then in the command prompt, run the following command:\n",
    "\n",
    "`$ git rm --cached config.yml`\n",
    "\n",
    "After running the command, you should see that config.yml is still in the directory, but running the following command, you would see that it is NOT being tracked by Git:\n",
    "\n",
    "`$ git ls-tree -r master --name-onl$ git ls-tree -r master --name-only`"
   ]
  },
  {
   "cell_type": "markdown",
   "metadata": {},
   "source": [
    "## Commit your code\n",
    "\n",
    "As I am creating changes in my project, these are all unseated updates. With each commit there most likely will be additions, and there will also be deletions from time to time. To get a baring of the updates I have made, let's get the status.\n",
    "\n",
    "`$ git status`\n",
    "This command will give you a list of all the updated, added and deleted files.\n",
    "\n",
    "To add files, I can add them individually or I can add all at once. From the root of the project I can use:\n",
    "\n",
    "`$ git add .`\n",
    "\n",
    "In order to remove deleted files from the version control, I can again either remove individually or from the root address them all like so:\n",
    "\n",
    "`$ git add -u`\n",
    "\n",
    "I'm lazy, I don't want to think, so I make heavy use of the following command to address all additions and deletions.\n",
    "\n",
    "`$ git add --all`"
   ]
  },
  {
   "cell_type": "markdown",
   "metadata": {},
   "source": [
    "## Push your branch\n",
    "\n",
    "When working with feature branches on a team, it is typically not appropriate to merge your own code into master. Although this is up to your team as to best manage, the norm is usually to make pull requests. Pull requests require that you push your branch to the remote repo.\n",
    "\n",
    "To push the new feature branch to the remote repo, simply do the following:\n",
    "\n",
    "`$ git commit -m <message>`\n",
    "\n",
    "`$ git push origin my-new-feature-branch`\n",
    "\n",
    "As far as Git is concerned, there is no real difference between master and a feature branch. So, all the identical Git features apply."
   ]
  },
  {
   "cell_type": "code",
   "execution_count": null,
   "metadata": {},
   "outputs": [],
   "source": []
  }
 ],
 "metadata": {
  "kernelspec": {
   "display_name": "Python 3",
   "language": "python",
   "name": "python3"
  },
  "language_info": {
   "codemirror_mode": {
    "name": "ipython",
    "version": 3
   },
   "file_extension": ".py",
   "mimetype": "text/x-python",
   "name": "python",
   "nbconvert_exporter": "python",
   "pygments_lexer": "ipython3",
   "version": "3.7.6"
  },
  "toc": {
   "base_numbering": 1,
   "nav_menu": {},
   "number_sections": false,
   "sideBar": true,
   "skip_h1_title": true,
   "title_cell": "Table of Contents",
   "title_sidebar": "Contents",
   "toc_cell": true,
   "toc_position": {},
   "toc_section_display": true,
   "toc_window_display": true
  },
  "varInspector": {
   "cols": {
    "lenName": 16,
    "lenType": 16,
    "lenVar": 40
   },
   "kernels_config": {
    "python": {
     "delete_cmd_postfix": "",
     "delete_cmd_prefix": "del ",
     "library": "var_list.py",
     "varRefreshCmd": "print(var_dic_list())"
    },
    "r": {
     "delete_cmd_postfix": ") ",
     "delete_cmd_prefix": "rm(",
     "library": "var_list.r",
     "varRefreshCmd": "cat(var_dic_list()) "
    }
   },
   "types_to_exclude": [
    "module",
    "function",
    "builtin_function_or_method",
    "instance",
    "_Feature"
   ],
   "window_display": false
  }
 },
 "nbformat": 4,
 "nbformat_minor": 4
}
