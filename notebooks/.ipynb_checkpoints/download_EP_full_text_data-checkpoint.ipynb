{
 "cells": [
  {
   "cell_type": "markdown",
   "metadata": {},
   "source": [
    "# Downloading the EP full-text data for text analytics data on a server\n",
    "\n",
    "Documentation available at:\n",
    "* [EP full-text data for text analytics data](https://www.epo.org/searching-for-patents/data/bulk-data-sets/text-analytics.html)\n",
    "* [Cloud Storage Client Libraries](https://cloud.google.com/storage/docs/reference/libraries#client-libraries-install-python)"
   ]
  },
  {
   "cell_type": "markdown",
   "metadata": {},
   "source": [
    "## Import model configuration"
   ]
  },
  {
   "cell_type": "code",
   "execution_count": 1,
   "metadata": {},
   "outputs": [],
   "source": [
    "import sys\n",
    "sys.path.append(\"../settings\")\n",
    "import settings"
   ]
  },
  {
   "cell_type": "markdown",
   "metadata": {},
   "source": [
    "## Installing new libraries"
   ]
  },
  {
   "cell_type": "code",
   "execution_count": 2,
   "metadata": {},
   "outputs": [
    {
     "name": "stdout",
     "output_type": "stream",
     "text": [
      "Defaulting to user installation because normal site-packages is not writeable\n",
      "Requirement already up-to-date: pip in /home/antoine/.local/lib/python3.8/site-packages (20.2.2)\n"
     ]
    }
   ],
   "source": [
    "# Upgrading pip\n",
    "!/usr/bin/python3.8 -m pip install --upgrade pip"
   ]
  },
  {
   "cell_type": "code",
   "execution_count": 3,
   "metadata": {},
   "outputs": [
    {
     "name": "stdout",
     "output_type": "stream",
     "text": [
      "3.6.9\n"
     ]
    }
   ],
   "source": [
    "from platform import python_version\n",
    "print(python_version())"
   ]
  },
  {
   "cell_type": "code",
   "execution_count": 4,
   "metadata": {
    "code_folding": [],
    "scrolled": true
   },
   "outputs": [
    {
     "name": "stdout",
     "output_type": "stream",
     "text": [
      "Defaulting to user installation because normal site-packages is not writeable\n",
      "Requirement already satisfied: google in /home/antoine/.local/lib/python3.6/site-packages (3.0.0)\n",
      "Requirement already satisfied: beautifulsoup4 in /home/antoine/.local/lib/python3.6/site-packages (from google) (4.9.1)\n",
      "Requirement already satisfied: soupsieve>1.2 in /home/antoine/.local/lib/python3.6/site-packages (from beautifulsoup4->google) (2.0.1)\n",
      "\u001b[33mWARNING: You are using pip version 20.0.2; however, version 20.2.2 is available.\n",
      "You should consider upgrading via the '/usr/bin/python3 -m pip install --upgrade pip' command.\u001b[0m\n",
      "Defaulting to user installation because normal site-packages is not writeable\n",
      "Requirement already satisfied: google-cloud-storage in /home/antoine/.local/lib/python3.6/site-packages (1.30.0)\n",
      "Requirement already satisfied: google-cloud-core<2.0dev,>=1.2.0 in /home/antoine/.local/lib/python3.6/site-packages (from google-cloud-storage) (1.4.1)\n",
      "Requirement already satisfied: google-auth<2.0dev,>=1.11.0 in /home/antoine/.local/lib/python3.6/site-packages (from google-cloud-storage) (1.20.1)\n",
      "Requirement already satisfied: google-resumable-media<2.0dev,>=0.6.0 in /home/antoine/.local/lib/python3.6/site-packages (from google-cloud-storage) (0.7.1)\n",
      "Requirement already satisfied: google-api-core<2.0.0dev,>=1.19.0 in /home/antoine/.local/lib/python3.6/site-packages (from google-cloud-core<2.0dev,>=1.2.0->google-cloud-storage) (1.22.1)\n",
      "Requirement already satisfied: setuptools>=40.3.0 in /usr/local/lib/python3.6/dist-packages (from google-auth<2.0dev,>=1.11.0->google-cloud-storage) (45.0.0)\n",
      "Requirement already satisfied: pyasn1-modules>=0.2.1 in /usr/lib/python3/dist-packages (from google-auth<2.0dev,>=1.11.0->google-cloud-storage) (0.2.1)\n",
      "Requirement already satisfied: cachetools<5.0,>=2.0.0 in /home/antoine/.local/lib/python3.6/site-packages (from google-auth<2.0dev,>=1.11.0->google-cloud-storage) (4.1.1)\n",
      "Requirement already satisfied: rsa<5,>=3.1.4; python_version >= \"3.5\" in /home/antoine/.local/lib/python3.6/site-packages (from google-auth<2.0dev,>=1.11.0->google-cloud-storage) (4.6)\n",
      "Requirement already satisfied: six>=1.9.0 in /usr/lib/python3/dist-packages (from google-auth<2.0dev,>=1.11.0->google-cloud-storage) (1.11.0)\n",
      "Requirement already satisfied: google-crc32c<0.2dev,>=0.1.0; python_version >= \"3.5\" in /home/antoine/.local/lib/python3.6/site-packages (from google-resumable-media<2.0dev,>=0.6.0->google-cloud-storage) (0.1.0)\n",
      "Requirement already satisfied: pytz in /usr/lib/python3/dist-packages (from google-api-core<2.0.0dev,>=1.19.0->google-cloud-core<2.0dev,>=1.2.0->google-cloud-storage) (2018.3)\n",
      "Requirement already satisfied: protobuf>=3.12.0 in /home/antoine/.local/lib/python3.6/site-packages (from google-api-core<2.0.0dev,>=1.19.0->google-cloud-core<2.0dev,>=1.2.0->google-cloud-storage) (3.13.0)\n",
      "Requirement already satisfied: googleapis-common-protos<2.0dev,>=1.6.0 in /home/antoine/.local/lib/python3.6/site-packages (from google-api-core<2.0.0dev,>=1.19.0->google-cloud-core<2.0dev,>=1.2.0->google-cloud-storage) (1.52.0)\n",
      "Requirement already satisfied: requests<3.0.0dev,>=2.18.0 in /usr/lib/python3/dist-packages (from google-api-core<2.0.0dev,>=1.19.0->google-cloud-core<2.0dev,>=1.2.0->google-cloud-storage) (2.18.4)\n",
      "Requirement already satisfied: pyasn1>=0.1.3 in /usr/lib/python3/dist-packages (from rsa<5,>=3.1.4; python_version >= \"3.5\"->google-auth<2.0dev,>=1.11.0->google-cloud-storage) (0.4.2)\n",
      "Requirement already satisfied: cffi>=1.0.0 in /home/antoine/.local/lib/python3.6/site-packages (from google-crc32c<0.2dev,>=0.1.0; python_version >= \"3.5\"->google-resumable-media<2.0dev,>=0.6.0->google-cloud-storage) (1.14.1)\n",
      "Requirement already satisfied: pycparser in /home/antoine/.local/lib/python3.6/site-packages (from cffi>=1.0.0->google-crc32c<0.2dev,>=0.1.0; python_version >= \"3.5\"->google-resumable-media<2.0dev,>=0.6.0->google-cloud-storage) (2.20)\n",
      "\u001b[33mWARNING: You are using pip version 20.0.2; however, version 20.2.2 is available.\n",
      "You should consider upgrading via the '/usr/bin/python3 -m pip install --upgrade pip' command.\u001b[0m\n"
     ]
    }
   ],
   "source": [
    "# Installing the Google cloud storage API\n",
    "!pip3.6 install google\n",
    "!pip3.6 install google-cloud-storage"
   ]
  },
  {
   "cell_type": "markdown",
   "metadata": {},
   "source": [
    "## Authentification in the Google cloud service"
   ]
  },
  {
   "cell_type": "markdown",
   "metadata": {},
   "source": [
    "To run the client library, you must first set up authentication by creating a service account and setting an environment variable. \n",
    "\n",
    "> * Complete the steps of the Google page [Cloud Storage Client Libraries](https://cloud.google.com/storage/docs/reference/libraries#client-libraries-install-python) to set up authentication.\n",
    "* The keys and confidential settings are stored in a dedicated folder.\n",
    "* Run `gsutil config` in a proper terminal then follow the steps to authentificate\n",
    "\n",
    "> * <span style=\"background-color: #FFFF00\">/!\\ As from now, the actions will be charged on the Google cloud account!</span> "
   ]
  },
  {
   "cell_type": "markdown",
   "metadata": {},
   "source": [
    "## First glance at the content of the bucket"
   ]
  },
  {
   "cell_type": "code",
   "execution_count": 5,
   "metadata": {},
   "outputs": [
    {
     "name": "stdout",
     "output_type": "stream",
     "text": [
      "gs://epo-public/EP-fulltext-for-text-analytics_2019week31/\r\n",
      "gs://epo-public/EP-fulltext-for-text-analytics_2020week08/\r\n"
     ]
    }
   ],
   "source": [
    "# Visualisation of the files in the EPO public repository\n",
    "# Here we see that two versions of the database exist (the 2019 and the 2020 version)\n",
    "!gsutil -u {settings.google_project_id} ls gs://epo-public"
   ]
  },
  {
   "cell_type": "code",
   "execution_count": 9,
   "metadata": {},
   "outputs": [
    {
     "name": "stdout",
     "output_type": "stream",
     "text": [
      "232717793416  gs://epo-public/EP-fulltext-for-text-analytics_2019week31\r\n"
     ]
    }
   ],
   "source": [
    "# Estimating the size of the 2019 edition of the EP data: 232 GB\n",
    "!gsutil -u {settings.google_project_id} du -s gs://epo-public/EP-fulltext-for-text-analytics_2019week31/"
   ]
  },
  {
   "cell_type": "code",
   "execution_count": 7,
   "metadata": {},
   "outputs": [
    {
     "name": "stdout",
     "output_type": "stream",
     "text": [
      "11           gs://epo-public/EP-fulltext-for-text-analytics_2020week08\r\n"
     ]
    }
   ],
   "source": [
    "# Estimating the size of the 2020 edition of the EP data\n",
    "# Here we see that the size of the 2020 bucket is very small: 11 bytes!\n",
    "!gsutil -u {settings.google_project_id} du -s gs://epo-public/EP-fulltext-for-text-analytics_2020week08/"
   ]
  },
  {
   "cell_type": "markdown",
   "metadata": {},
   "source": [
    "## Copying a single file (6 GB) to the local repository\n",
    "* EP full-text data for text analytics comprises around 35 data files of about 5-8 GB each.\n",
    "* each file contains the publications associated with 100 000 publication numbers."
   ]
  },
  {
   "cell_type": "code",
   "execution_count": 6,
   "metadata": {},
   "outputs": [
    {
     "name": "stdout",
     "output_type": "stream",
     "text": [
      "Copying gs://epo-public/EP-fulltext-for-text-analytics_2019week31/EP1400000.txt...\n",
      "- [1 files][  5.9 GiB/  5.9 GiB]   59.0 MiB/s                                   \n",
      "Operation completed over 1 objects/5.9 GiB.                                      \n"
     ]
    }
   ],
   "source": [
    "!gsutil -u {settings.google_project_id} cp gs://epo-public/EP-fulltext-for-text-analytics_2019week31/EP1400000.txt {settings.local_storage_destination_sample}"
   ]
  },
  {
   "cell_type": "markdown",
   "metadata": {},
   "source": [
    "## We visualise the data we have just downloaded!"
   ]
  },
  {
   "cell_type": "code",
   "execution_count": 2,
   "metadata": {},
   "outputs": [],
   "source": [
    "import pandas as pd\n",
    "data = pd.read_csv(settings.local_storage_destination_sample + '/EP1400000.txt', sep = '\\t',  header = None)"
   ]
  },
  {
   "cell_type": "code",
   "execution_count": 4,
   "metadata": {},
   "outputs": [
    {
     "data": {
      "text/html": [
       "<div>\n",
       "<style scoped>\n",
       "    .dataframe tbody tr th:only-of-type {\n",
       "        vertical-align: middle;\n",
       "    }\n",
       "\n",
       "    .dataframe tbody tr th {\n",
       "        vertical-align: top;\n",
       "    }\n",
       "\n",
       "    .dataframe thead th {\n",
       "        text-align: right;\n",
       "    }\n",
       "</style>\n",
       "<table border=\"1\" class=\"dataframe\">\n",
       "  <thead>\n",
       "    <tr style=\"text-align: right;\">\n",
       "      <th></th>\n",
       "      <th>publication_authority</th>\n",
       "      <th>publication_number</th>\n",
       "      <th>publication_kind</th>\n",
       "      <th>publication_date</th>\n",
       "      <th>language_text_component</th>\n",
       "      <th>text_type</th>\n",
       "      <th>text</th>\n",
       "    </tr>\n",
       "  </thead>\n",
       "  <tbody>\n",
       "    <tr>\n",
       "      <th>0</th>\n",
       "      <td>EP</td>\n",
       "      <td>1400022</td>\n",
       "      <td>A2</td>\n",
       "      <td>2004-03-24</td>\n",
       "      <td>de</td>\n",
       "      <td>TITLE</td>\n",
       "      <td>VERFAHREN UND EINRICHTUNG ZUR KODIERUNG, BEZIE...</td>\n",
       "    </tr>\n",
       "    <tr>\n",
       "      <th>1</th>\n",
       "      <td>EP</td>\n",
       "      <td>1400022</td>\n",
       "      <td>A2</td>\n",
       "      <td>2004-03-24</td>\n",
       "      <td>en</td>\n",
       "      <td>TITLE</td>\n",
       "      <td>METHOD AND APPARATUS FOR CODING AND DECODING DATA</td>\n",
       "    </tr>\n",
       "    <tr>\n",
       "      <th>2</th>\n",
       "      <td>EP</td>\n",
       "      <td>1400022</td>\n",
       "      <td>A2</td>\n",
       "      <td>2004-03-24</td>\n",
       "      <td>fr</td>\n",
       "      <td>TITLE</td>\n",
       "      <td>PROCEDE ET APPAREIL PERMETTANT DE CODER ET DE ...</td>\n",
       "    </tr>\n",
       "    <tr>\n",
       "      <th>3</th>\n",
       "      <td>EP</td>\n",
       "      <td>1400299</td>\n",
       "      <td>A1</td>\n",
       "      <td>2004-03-24</td>\n",
       "      <td>de</td>\n",
       "      <td>TITLE</td>\n",
       "      <td>ELEKTRODENDRAHT FÜR DRAHTEROSIONSMASCHINE</td>\n",
       "    </tr>\n",
       "    <tr>\n",
       "      <th>4</th>\n",
       "      <td>EP</td>\n",
       "      <td>1400299</td>\n",
       "      <td>A1</td>\n",
       "      <td>2004-03-24</td>\n",
       "      <td>en</td>\n",
       "      <td>TITLE</td>\n",
       "      <td>ELECTRODE WIRE FOR WIRE ELECTRICAL DISCHARGE M...</td>\n",
       "    </tr>\n",
       "    <tr>\n",
       "      <th>5</th>\n",
       "      <td>EP</td>\n",
       "      <td>1400299</td>\n",
       "      <td>A1</td>\n",
       "      <td>2004-03-24</td>\n",
       "      <td>fr</td>\n",
       "      <td>TITLE</td>\n",
       "      <td>FIL-ELECTRODE POUR ENSEMBLE D'USINAGE PAR ETIN...</td>\n",
       "    </tr>\n",
       "    <tr>\n",
       "      <th>6</th>\n",
       "      <td>EP</td>\n",
       "      <td>1400299</td>\n",
       "      <td>A1</td>\n",
       "      <td>2004-03-24</td>\n",
       "      <td>en</td>\n",
       "      <td>ABSTR</td>\n",
       "      <td>&lt;p id=\"pa01\" num=\"0001\"&gt;The present invention ...</td>\n",
       "    </tr>\n",
       "    <tr>\n",
       "      <th>7</th>\n",
       "      <td>EP</td>\n",
       "      <td>1400299</td>\n",
       "      <td>A1</td>\n",
       "      <td>2004-03-24</td>\n",
       "      <td>en</td>\n",
       "      <td>DESCR</td>\n",
       "      <td>&lt;heading id=\"h0001\"&gt;TECHNICAL FIELD&lt;/heading&gt;&lt;...</td>\n",
       "    </tr>\n",
       "    <tr>\n",
       "      <th>8</th>\n",
       "      <td>EP</td>\n",
       "      <td>1400299</td>\n",
       "      <td>A1</td>\n",
       "      <td>2004-03-24</td>\n",
       "      <td>en</td>\n",
       "      <td>CLAIM</td>\n",
       "      <td>&lt;claim id=\"c-en-0001\" num=\"0001\"&gt;&lt;claim-text&gt;A...</td>\n",
       "    </tr>\n",
       "    <tr>\n",
       "      <th>9</th>\n",
       "      <td>EP</td>\n",
       "      <td>1400299</td>\n",
       "      <td>A1</td>\n",
       "      <td>2004-03-24</td>\n",
       "      <td>en</td>\n",
       "      <td>PDFEP</td>\n",
       "      <td>https://data.epo.org/publication-server/pdf-do...</td>\n",
       "    </tr>\n",
       "  </tbody>\n",
       "</table>\n",
       "</div>"
      ],
      "text/plain": [
       "  publication_authority  publication_number publication_kind publication_date  \\\n",
       "0                    EP             1400022               A2       2004-03-24   \n",
       "1                    EP             1400022               A2       2004-03-24   \n",
       "2                    EP             1400022               A2       2004-03-24   \n",
       "3                    EP             1400299               A1       2004-03-24   \n",
       "4                    EP             1400299               A1       2004-03-24   \n",
       "5                    EP             1400299               A1       2004-03-24   \n",
       "6                    EP             1400299               A1       2004-03-24   \n",
       "7                    EP             1400299               A1       2004-03-24   \n",
       "8                    EP             1400299               A1       2004-03-24   \n",
       "9                    EP             1400299               A1       2004-03-24   \n",
       "\n",
       "  language_text_component text_type  \\\n",
       "0                      de     TITLE   \n",
       "1                      en     TITLE   \n",
       "2                      fr     TITLE   \n",
       "3                      de     TITLE   \n",
       "4                      en     TITLE   \n",
       "5                      fr     TITLE   \n",
       "6                      en     ABSTR   \n",
       "7                      en     DESCR   \n",
       "8                      en     CLAIM   \n",
       "9                      en     PDFEP   \n",
       "\n",
       "                                                text  \n",
       "0  VERFAHREN UND EINRICHTUNG ZUR KODIERUNG, BEZIE...  \n",
       "1  METHOD AND APPARATUS FOR CODING AND DECODING DATA  \n",
       "2  PROCEDE ET APPAREIL PERMETTANT DE CODER ET DE ...  \n",
       "3          ELEKTRODENDRAHT FÜR DRAHTEROSIONSMASCHINE  \n",
       "4  ELECTRODE WIRE FOR WIRE ELECTRICAL DISCHARGE M...  \n",
       "5  FIL-ELECTRODE POUR ENSEMBLE D'USINAGE PAR ETIN...  \n",
       "6  <p id=\"pa01\" num=\"0001\">The present invention ...  \n",
       "7  <heading id=\"h0001\">TECHNICAL FIELD</heading><...  \n",
       "8  <claim id=\"c-en-0001\" num=\"0001\"><claim-text>A...  \n",
       "9  https://data.epo.org/publication-server/pdf-do...  "
      ]
     },
     "execution_count": 4,
     "metadata": {},
     "output_type": "execute_result"
    }
   ],
   "source": [
    "data.columns = ['publication_authority', # will always have the value \"EP\"\n",
    "                'publication_number', # a seven-digit number\n",
    "                'publication_kind', # see https://www.epo.org/searching-for-patents/helpful-resources/first-time-here/definitions.html for help.\n",
    "                'publication_date', # in format YYYY-MM-DD\n",
    "                'language_text_component', # de, en, fr; xx means unknown\n",
    "                'text_type', # TITLE, ABSTR, DESCR, CLAIM, AMEND, ACSTM, SREPT, PDFEP\n",
    "                'text' # it contains, where appropriate, XML tags for better structure. You will find the DTD applicable to all parts of the publication at: http://docs.epoline.org/ebd/doc/ep-patent-document-v1-5.dtd\n",
    "               ]\n",
    "data.head(10)"
   ]
  },
  {
   "cell_type": "markdown",
   "metadata": {},
   "source": [
    "## Downloading the entire database on the local server"
   ]
  },
  {
   "cell_type": "code",
   "execution_count": 5,
   "metadata": {},
   "outputs": [
    {
     "name": "stdout",
     "output_type": "stream",
     "text": [
      "Copying gs://epo-public/EP-fulltext-for-text-analytics_2019week31/$description.txt...\n",
      "Copying gs://epo-public/EP-fulltext-for-text-analytics_2019week31/$license.txt...\n",
      "Copying gs://epo-public/EP-fulltext-for-text-analytics_2019week31/EP0000000.txt...\n",
      "Copying gs://epo-public/EP-fulltext-for-text-analytics_2019week31/EP0100000.txt...\n",
      "- [4 files][ 10.4 GiB/ 10.4 GiB]   24.6 MiB/s                                   \n",
      "==> NOTE: You are performing a sequence of gsutil operations that may\n",
      "run significantly faster if you instead use gsutil -m cp ... Please\n",
      "see the -m section under \"gsutil help options\" for further information\n",
      "about when gsutil -m can be advantageous.\n",
      "\n",
      "Copying gs://epo-public/EP-fulltext-for-text-analytics_2019week31/EP0200000.txt...\n",
      "Copying gs://epo-public/EP-fulltext-for-text-analytics_2019week31/EP0300000.txt...\n",
      "Copying gs://epo-public/EP-fulltext-for-text-analytics_2019week31/EP0400000.txt...\n",
      "Copying gs://epo-public/EP-fulltext-for-text-analytics_2019week31/EP0500000.txt...\n",
      "Copying gs://epo-public/EP-fulltext-for-text-analytics_2019week31/EP0600000.txt...\n",
      "Copying gs://epo-public/EP-fulltext-for-text-analytics_2019week31/EP0700000.txt...\n",
      "Copying gs://epo-public/EP-fulltext-for-text-analytics_2019week31/EP0800000.txt...\n",
      "Copying gs://epo-public/EP-fulltext-for-text-analytics_2019week31/EP0900000.txt...\n",
      "Copying gs://epo-public/EP-fulltext-for-text-analytics_2019week31/EP1000000.txt...\n",
      "Copying gs://epo-public/EP-fulltext-for-text-analytics_2019week31/EP1100000.txt...\n",
      "Copying gs://epo-public/EP-fulltext-for-text-analytics_2019week31/EP1200000.txt...\n",
      "Copying gs://epo-public/EP-fulltext-for-text-analytics_2019week31/EP1300000.txt...\n",
      "Copying gs://epo-public/EP-fulltext-for-text-analytics_2019week31/EP1400000.txt...\n",
      "Copying gs://epo-public/EP-fulltext-for-text-analytics_2019week31/EP1500000.txt...\n",
      "Copying gs://epo-public/EP-fulltext-for-text-analytics_2019week31/EP1600000.txt...\n",
      "Copying gs://epo-public/EP-fulltext-for-text-analytics_2019week31/EP1700000.txt...\n",
      "Copying gs://epo-public/EP-fulltext-for-text-analytics_2019week31/EP1800000.txt...\n",
      "Copying gs://epo-public/EP-fulltext-for-text-analytics_2019week31/EP1900000.txt...\n",
      "Copying gs://epo-public/EP-fulltext-for-text-analytics_2019week31/EP2000000.txt...\n",
      "Copying gs://epo-public/EP-fulltext-for-text-analytics_2019week31/EP2100000.txt...\n",
      "Copying gs://epo-public/EP-fulltext-for-text-analytics_2019week31/EP2200000.txt...\n",
      "Copying gs://epo-public/EP-fulltext-for-text-analytics_2019week31/EP2300000.txt...\n",
      "Copying gs://epo-public/EP-fulltext-for-text-analytics_2019week31/EP2400000.txt...\n",
      "Copying gs://epo-public/EP-fulltext-for-text-analytics_2019week31/EP2500000.txt...\n",
      "Copying gs://epo-public/EP-fulltext-for-text-analytics_2019week31/EP2600000.txt...\n",
      "Copying gs://epo-public/EP-fulltext-for-text-analytics_2019week31/EP2700000.txt...\n",
      "Copying gs://epo-public/EP-fulltext-for-text-analytics_2019week31/EP2800000.txt...\n",
      "Copying gs://epo-public/EP-fulltext-for-text-analytics_2019week31/EP2900000.txt...\n",
      "Copying gs://epo-public/EP-fulltext-for-text-analytics_2019week31/EP3000000.txt...\n",
      "Copying gs://epo-public/EP-fulltext-for-text-analytics_2019week31/EP3100000.txt...\n",
      "Copying gs://epo-public/EP-fulltext-for-text-analytics_2019week31/EP3200000.txt...\n",
      "Copying gs://epo-public/EP-fulltext-for-text-analytics_2019week31/EP3300000.txt...\n",
      "Copying gs://epo-public/EP-fulltext-for-text-analytics_2019week31/EP3400000.txt...\n",
      "Copying gs://epo-public/EP-fulltext-for-text-analytics_2019week31/EP3500000.txt...\n",
      "Copying gs://epo-public/EP-fulltext-for-text-analytics_2019week31/ep-patent-document-v1-5.dtd...\n",
      "/ [39 files][216.7 GiB/216.7 GiB]   40.7 MiB/s                                  \n",
      "==> NOTE: You are performing a sequence of gsutil operations that may\n",
      "run significantly faster if you instead use gsutil -m cp ... Please\n",
      "see the -m section under \"gsutil help options\" for further information\n",
      "about when gsutil -m can be advantageous.\n",
      "\n",
      "\n",
      "Operation completed over 39 objects/216.7 GiB.                                   \n"
     ]
    }
   ],
   "source": [
    "# 2019 edition\n",
    "!gsutil -u {settings.google_project_id} cp gs://epo-public/EP-fulltext-for-text-analytics_2019week31/* {settings.local_storage_destination_2019}"
   ]
  },
  {
   "cell_type": "code",
   "execution_count": 6,
   "metadata": {},
   "outputs": [
    {
     "name": "stdout",
     "output_type": "stream",
     "text": [
      "Copying gs://epo-public/EP-fulltext-for-text-analytics_2020week08/$description.txt...\n",
      "Copying gs://epo-public/EP-fulltext-for-text-analytics_2020week08/$license.txt...\n",
      "Copying gs://epo-public/EP-fulltext-for-text-analytics_2020week08/EP0000000.txt...\n",
      "| [3 files][  5.2 GiB/  5.2 GiB]   58.7 MiB/s                                   \n",
      "==> NOTE: You are performing a sequence of gsutil operations that may\n",
      "run significantly faster if you instead use gsutil -m cp ... Please\n",
      "see the -m section under \"gsutil help options\" for further information\n",
      "about when gsutil -m can be advantageous.\n",
      "\n",
      "Copying gs://epo-public/EP-fulltext-for-text-analytics_2020week08/EP0100000.txt...\n",
      "Copying gs://epo-public/EP-fulltext-for-text-analytics_2020week08/EP0200000.txt...\n",
      "Copying gs://epo-public/EP-fulltext-for-text-analytics_2020week08/EP0300000.txt...\n",
      "Copying gs://epo-public/EP-fulltext-for-text-analytics_2020week08/EP0400000.txt...\n",
      "Copying gs://epo-public/EP-fulltext-for-text-analytics_2020week08/EP0500000.txt...\n",
      "Copying gs://epo-public/EP-fulltext-for-text-analytics_2020week08/EP0600000.txt...\n",
      "Copying gs://epo-public/EP-fulltext-for-text-analytics_2020week08/EP0700000.txt...\n",
      "Copying gs://epo-public/EP-fulltext-for-text-analytics_2020week08/EP0800000.txt...\n",
      "Copying gs://epo-public/EP-fulltext-for-text-analytics_2020week08/EP0900000.txt...\n",
      "Copying gs://epo-public/EP-fulltext-for-text-analytics_2020week08/EP1000000.txt...\n",
      "Copying gs://epo-public/EP-fulltext-for-text-analytics_2020week08/EP1100000.txt...\n",
      "Copying gs://epo-public/EP-fulltext-for-text-analytics_2020week08/EP1200000.txt...\n",
      "Copying gs://epo-public/EP-fulltext-for-text-analytics_2020week08/EP1300000.txt...\n",
      "Copying gs://epo-public/EP-fulltext-for-text-analytics_2020week08/EP1400000.txt...\n",
      "Copying gs://epo-public/EP-fulltext-for-text-analytics_2020week08/EP1500000.txt...\n",
      "Copying gs://epo-public/EP-fulltext-for-text-analytics_2020week08/EP1600000.txt...\n",
      "Copying gs://epo-public/EP-fulltext-for-text-analytics_2020week08/EP1700000.txt...\n",
      "Copying gs://epo-public/EP-fulltext-for-text-analytics_2020week08/EP1800000.txt...\n",
      "Copying gs://epo-public/EP-fulltext-for-text-analytics_2020week08/EP1900000.txt...\n",
      "Copying gs://epo-public/EP-fulltext-for-text-analytics_2020week08/EP2000000.txt...\n",
      "Copying gs://epo-public/EP-fulltext-for-text-analytics_2020week08/EP2100000.txt...\n",
      "Copying gs://epo-public/EP-fulltext-for-text-analytics_2020week08/EP2200000.txt...\n",
      "Copying gs://epo-public/EP-fulltext-for-text-analytics_2020week08/EP2300000.txt...\n",
      "Copying gs://epo-public/EP-fulltext-for-text-analytics_2020week08/EP2400000.txt...\n",
      "Copying gs://epo-public/EP-fulltext-for-text-analytics_2020week08/EP2500000.txt...\n",
      "Copying gs://epo-public/EP-fulltext-for-text-analytics_2020week08/EP2600000.txt...\n",
      "Copying gs://epo-public/EP-fulltext-for-text-analytics_2020week08/EP2700000.txt...\n",
      "Copying gs://epo-public/EP-fulltext-for-text-analytics_2020week08/EP2800000.txt...\n",
      "Copying gs://epo-public/EP-fulltext-for-text-analytics_2020week08/EP2900000.txt...\n",
      "Copying gs://epo-public/EP-fulltext-for-text-analytics_2020week08/EP3000000.txt...\n",
      "Copying gs://epo-public/EP-fulltext-for-text-analytics_2020week08/EP3100000.txt...\n",
      "Copying gs://epo-public/EP-fulltext-for-text-analytics_2020week08/EP3200000.txt...\n",
      "Copying gs://epo-public/EP-fulltext-for-text-analytics_2020week08/EP3300000.txt...\n",
      "Copying gs://epo-public/EP-fulltext-for-text-analytics_2020week08/EP3400000.txt...\n",
      "Copying gs://epo-public/EP-fulltext-for-text-analytics_2020week08/EP3500000.txt...\n",
      "Copying gs://epo-public/EP-fulltext-for-text-analytics_2020week08/EP3600000.txt...\n",
      "Copying gs://epo-public/EP-fulltext-for-text-analytics_2020week08/ep-patent-document-v1-5.dtd...\n",
      "/ [40 files][227.0 GiB/227.0 GiB]   86.8 MiB/s                                  \n",
      "==> NOTE: You are performing a sequence of gsutil operations that may\n",
      "run significantly faster if you instead use gsutil -m cp ... Please\n",
      "see the -m section under \"gsutil help options\" for further information\n",
      "about when gsutil -m can be advantageous.\n",
      "\n",
      "\n",
      "Operation completed over 40 objects/227.0 GiB.                                   \n"
     ]
    }
   ],
   "source": [
    "# 2020 edition\n",
    "!gsutil -u {settings.google_project_id} cp gs://epo-public/EP-fulltext-for-text-analytics_2020week08/* {settings.local_storage_destination_2020}"
   ]
  },
  {
   "cell_type": "markdown",
   "metadata": {},
   "source": [
    "## Success!"
   ]
  }
 ],
 "metadata": {
  "kernelspec": {
   "display_name": "Python 3",
   "language": "python",
   "name": "python3"
  },
  "language_info": {
   "codemirror_mode": {
    "name": "ipython",
    "version": 3
   },
   "file_extension": ".py",
   "mimetype": "text/x-python",
   "name": "python",
   "nbconvert_exporter": "python",
   "pygments_lexer": "ipython3",
   "version": "3.6.9"
  }
 },
 "nbformat": 4,
 "nbformat_minor": 4
}
