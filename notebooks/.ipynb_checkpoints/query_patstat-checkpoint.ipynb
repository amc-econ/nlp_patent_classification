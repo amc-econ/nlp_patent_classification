{
 "cells": [
  {
   "cell_type": "markdown",
   "id": "removed-mustang",
   "metadata": {},
   "source": [
    "# Querying the PASTAT database with a custom API\n",
    "\n",
    "* @author: Antoine Mathieu Collin\n",
    "* @email: antoine.mathieu-collin@kuleuven.be\n",
    "* @article: This code is part of the article: \"XXXX\"\n",
    "* @description: Makes use of the custom API to query the PATSTAT database.\n",
    "_____"
   ]
  },
  {
   "cell_type": "markdown",
   "id": "spare-people",
   "metadata": {},
   "source": [
    "## Imports"
   ]
  },
  {
   "cell_type": "code",
   "execution_count": 1,
   "id": "arranged-florist",
   "metadata": {},
   "outputs": [],
   "source": [
    "import sys\n",
    "sys.path.append(\"../\")"
   ]
  },
  {
   "cell_type": "code",
   "execution_count": 6,
   "id": "suspended-fruit",
   "metadata": {},
   "outputs": [],
   "source": [
    "import src.patstat_util.patstat_extraction_config\n",
    "import src.patstat_util.data_retrieval_model"
   ]
  },
  {
   "cell_type": "markdown",
   "id": "macro-jewelry",
   "metadata": {},
   "source": [
    "## Creating a query"
   ]
  },
  {
   "cell_type": "code",
   "execution_count": 3,
   "id": "legal-rings",
   "metadata": {},
   "outputs": [],
   "source": [
    "query_wind_technologies = data_retrieval_model.Query(\n",
    "    technology_classes = ['Y02E  10/7'],\n",
    "    start_year = 1990,\n",
    "    end_year = 1991,\n",
    "    output_files_prefix = \"test_query\")"
   ]
  },
  {
   "cell_type": "markdown",
   "id": "measured-mechanics",
   "metadata": {},
   "source": [
    "## Running the query"
   ]
  },
  {
   "cell_type": "code",
   "execution_count": 4,
   "id": "opening-intent",
   "metadata": {},
   "outputs": [],
   "source": [
    "# Initialisation of the model with the query as parameter\n",
    "model = data_retrieval_model.DataRetrievalModel(query = query_wind_technologies)"
   ]
  },
  {
   "cell_type": "code",
   "execution_count": 5,
   "id": "opposed-pillow",
   "metadata": {},
   "outputs": [
    {
     "name": "stdout",
     "output_type": "stream",
     "text": [
      "Connecting_engine\n",
      "Get primary info\n",
      "Selection of patents of interest\n",
      "Creating a temporary table with patent ids\n",
      "Get general info\n",
      "Get the CPC classes of the patents\n",
      "Get info about the patentees\n",
      "Create a temporary table with DOCDB family ids\n",
      "Get backwards cites\n",
      "Get forward cites\n",
      "Export the result datasets in data/raw\n",
      "Closing the conenction to the PostgreSQL database\n",
      "CPU times: user 397 ms, sys: 89 ms, total: 486 ms\n",
      "Wall time: 12min 57s\n"
     ]
    }
   ],
   "source": [
    "%%time\n",
    "\n",
    "# Run the model\n",
    "print('Connecting_engine')\n",
    "model._connect_engine()\n",
    "print('Get primary info')\n",
    "model._get_primary_info()\n",
    "print('Selection of patents of interest')\n",
    "model._select_patents_of_interest()\n",
    "print('Creating a temporary table with patent ids')\n",
    "model._create_temp_table_with_patent_ids()\n",
    "print('Get general info')\n",
    "model._get_general_info()\n",
    "print('Get the CPC classes of the patents')\n",
    "model._get_CPC_classes()\n",
    "print('Get info about the patentees')\n",
    "model._get_patentees_info()\n",
    "print('Create a temporary table with DOCDB family ids')\n",
    "model._create_temp_table_with_DOCDB_ids()\n",
    "print('Get backwards cites')\n",
    "model._retrieve_backward_docdb_citations()\n",
    "print('Get forward cites')\n",
    "model._retrieve_forward_docdb_citations()\n",
    "print('Export the result datasets in data/raw')\n",
    "model._export_result_datasets()\n",
    "print('Closing the conenction to the PostgreSQL database')\n",
    "model._close_connection()"
   ]
  },
  {
   "cell_type": "code",
   "execution_count": null,
   "id": "multiple-vulnerability",
   "metadata": {},
   "outputs": [],
   "source": []
  }
 ],
 "metadata": {
  "kernelspec": {
   "display_name": "Python 3",
   "language": "python",
   "name": "python3"
  },
  "language_info": {
   "codemirror_mode": {
    "name": "ipython",
    "version": 3
   },
   "file_extension": ".py",
   "mimetype": "text/x-python",
   "name": "python",
   "nbconvert_exporter": "python",
   "pygments_lexer": "ipython3",
   "version": "3.6.9"
  }
 },
 "nbformat": 4,
 "nbformat_minor": 5
}
