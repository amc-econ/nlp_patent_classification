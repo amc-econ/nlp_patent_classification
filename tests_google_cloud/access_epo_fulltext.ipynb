{
 "cells": [
  {
   "cell_type": "markdown",
   "id": "54a6da65",
   "metadata": {},
   "source": [
    "# Access EPO full text data"
   ]
  },
  {
   "cell_type": "code",
   "execution_count": 44,
   "id": "bc46dd73",
   "metadata": {},
   "outputs": [],
   "source": [
    "google_project_id = \"test-of-the-environment\""
   ]
  },
  {
   "cell_type": "code",
   "execution_count": 45,
   "id": "63f5de50",
   "metadata": {},
   "outputs": [
    {
     "name": "stdout",
     "output_type": "stream",
     "text": [
      "gs://ep-fulltext-for-text-analytics/2021week05/\n"
     ]
    }
   ],
   "source": [
    "# Visualisation of the files in the EPO public repository\n",
    "# Here we see that two versions of the database exist (the 2019 and the 2020 version)\n",
    "!gsutil -u {google_project_id} ls gs://ep-fulltext-for-text-analytics"
   ]
  },
  {
   "cell_type": "code",
   "execution_count": 46,
   "id": "11a99a11",
   "metadata": {},
   "outputs": [
    {
     "name": "stdout",
     "output_type": "stream",
     "text": [
      "262624147288  gs://ep-fulltext-for-text-analytics/2021week05\n"
     ]
    }
   ],
   "source": [
    "# Estimating the size of the 2021 edition of the EP data: 262 GB\n",
    "!gsutil -u {google_project_id} du -s gs://ep-fulltext-for-text-analytics/2021week05"
   ]
  },
  {
   "cell_type": "markdown",
   "id": "4599be91",
   "metadata": {},
   "source": [
    "### Copying a single file (6 GB) to the local repository\n",
    "\n",
    "* EP full-text data for text analytics comprises around 35 data files of about 5-8 GB each.\n",
    "* each file contains the publications associated with 100 000 publication numbers."
   ]
  },
  {
   "cell_type": "code",
   "execution_count": 76,
   "id": "00969329",
   "metadata": {},
   "outputs": [
    {
     "name": "stdout",
     "output_type": "stream",
     "text": [
      "Copying gs://ep-fulltext-for-text-analytics/2021week05/EP1400000.txt [Content-Type=text/plain]...\n",
      "- [1 files][  5.9 GiB/  5.9 GiB]      0.0 B/s                                   \n",
      "Operation completed over 1 objects/5.9 GiB.                                      \n"
     ]
    }
   ],
   "source": [
    "!gsutil -u {google_project_id} cp gs://ep-fulltext-for-text-analytics/2021week05/EP1400000.txt gs://ep_full_text_data_amc"
   ]
  }
 ],
 "metadata": {
  "environment": {
   "name": "common-cpu.m75",
   "type": "gcloud",
   "uri": "gcr.io/deeplearning-platform-release/base-cpu:m75"
  },
  "kernelspec": {
   "display_name": "Python 3",
   "language": "python",
   "name": "python3"
  },
  "language_info": {
   "codemirror_mode": {
    "name": "ipython",
    "version": 3
   },
   "file_extension": ".py",
   "mimetype": "text/x-python",
   "name": "python",
   "nbconvert_exporter": "python",
   "pygments_lexer": "ipython3",
   "version": "3.7.10"
  }
 },
 "nbformat": 4,
 "nbformat_minor": 5
}
